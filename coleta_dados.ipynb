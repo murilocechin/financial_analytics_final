{
 "cells": [
  {
   "cell_type": "markdown",
   "metadata": {},
   "source": [
    "<h1><center><strong>Coleta de Dados</strong></center></h1>"
   ]
  },
  {
   "cell_type": "markdown",
   "metadata": {},
   "source": [
    "O projeto consiste em analisar ações de diferentes setores da indústria. A participação da indústria no PIB brasileiro foi de 25,5%, de acordo com o site [Indústria Brasileira](https://industriabrasileira.portaldaindustria.com.br/grafico/total/producao/#/industria-total). O setor industrial é composto pelos seguintes segmentos:\n",
    "\n",
    "![Setores da Industria](data/imagens/setores_industria.JPG)\n",
    "\n",
    "De acordo com este levantamento, será selecionada as seguintes ações para cada sub-setor da industria: \n",
    "\n",
    "- **Indústria de Construção:**\n",
    "\n",
    "    - **(ETER3) ETERNIT S.A.**: Industrialização e comercialização de produtos de fibrocimento. cimento. concreto. gesso. produtos de matéria plástica. bem como outros materiais de construção e respectivos acessórios.\n",
    "\n",
    "    - **(AZEV4) AZEVEDO E TRAVASSOS S.A.**: Execução de obras de construção pesada junto à órgãos púbicos e iniciativa privada.\n",
    "\n",
    "- **Extração de petróleo e gás natural**: \n",
    "\n",
    "    - **(PETR4) PETROLEO BRASILEIRO S.A. PETROBRAS**: Pesquisa. lavra. refinação. processamento. comércio e transporte de petróleo. de seus derivados. de gás natural e de outros hidrocarbonetos fluidos. além das atividades vinculadas à energia.  \n",
    "\n",
    "    - **(OPCT3) OCEANPACT SERVICOS MARITIMOS S.A.**: Serviços de suporte marítimo. incluindo soluções de meio ambiente. serviços submarinos e de apoio logístico e de engenharia para clientes de diversos setores. como óleo e gás. energia. mineração.\n",
    "\n",
    "- **Extração de Minerais metálicos**: \n",
    "\n",
    "    - **(VALE3) VALE S.A.**: Mineração\n",
    "    \n",
    "    - **(USIM5) USINAS SID DE MINAS GERAIS S.A.**: Venda de produtos siderúrgicos. como Chapas Grossas. Laminados a quente. a frio. placas. galvanizados. entre outros.\n",
    "\n"
   ]
  },
  {
   "cell_type": "code",
   "execution_count": 1,
   "metadata": {},
   "outputs": [],
   "source": [
    "# Importando Bibliotecas\n",
    "import pandas\n",
    "import yfinance as yf"
   ]
  },
  {
   "cell_type": "code",
   "execution_count": 2,
   "metadata": {},
   "outputs": [
    {
     "data": {
      "text/plain": [
       "{'ETER3.SA':                                Open      High       Low     Close  Volume  \\\n",
       " Date                                                                        \n",
       " 2000-01-03 00:00:00-02:00  6.002428  6.002428  5.985754  6.002428    1685   \n",
       " 2000-01-04 00:00:00-02:00  5.919062  5.919062  5.752327  5.752327     122   \n",
       " 2000-01-05 00:00:00-02:00  4.835291  5.002025  4.835291  4.935331    1025   \n",
       " 2000-01-06 00:00:00-02:00  5.002024  5.252125  5.002024  5.252125    2784   \n",
       " 2000-01-07 00:00:00-02:00  5.302145  5.585593  5.302145  5.585593    1123   \n",
       " ...                             ...       ...       ...       ...     ...   \n",
       " 2024-06-17 00:00:00-03:00  6.140000  6.150000  5.940000  5.950000  205300   \n",
       " 2024-06-18 00:00:00-03:00  5.950000  6.000000  5.880000  5.880000  143900   \n",
       " 2024-06-19 00:00:00-03:00  5.860000  5.900000  5.650000  5.900000  300400   \n",
       " 2024-06-20 00:00:00-03:00  5.940000  5.980000  5.700000  5.710000  416400   \n",
       " 2024-06-21 00:00:00-03:00  5.730000  5.890000  5.730000  5.890000  156900   \n",
       " \n",
       "                            Dividends  Stock Splits  \n",
       " Date                                                \n",
       " 2000-01-03 00:00:00-02:00        0.0           0.0  \n",
       " 2000-01-04 00:00:00-02:00        0.0           0.0  \n",
       " 2000-01-05 00:00:00-02:00        0.0           0.0  \n",
       " 2000-01-06 00:00:00-02:00        0.0           0.0  \n",
       " 2000-01-07 00:00:00-02:00        0.0           0.0  \n",
       " ...                              ...           ...  \n",
       " 2024-06-17 00:00:00-03:00        0.0           0.0  \n",
       " 2024-06-18 00:00:00-03:00        0.0           0.0  \n",
       " 2024-06-19 00:00:00-03:00        0.0           0.0  \n",
       " 2024-06-20 00:00:00-03:00        0.0           0.0  \n",
       " 2024-06-21 00:00:00-03:00        0.0           0.0  \n",
       " \n",
       " [6145 rows x 7 columns],\n",
       " 'AZEV4.SA':                                    Open          High           Low  \\\n",
       " Date                                                                  \n",
       " 2000-02-25 00:00:00-02:00  12724.959961  12724.959961  12724.959961   \n",
       " 2000-02-28 00:00:00-03:00  12724.959961  12724.959961  12724.959961   \n",
       " 2000-02-29 00:00:00-03:00  12724.959961  12724.959961  12724.959961   \n",
       " 2000-03-01 00:00:00-03:00  12724.959961  12724.959961  12724.959961   \n",
       " 2000-03-02 00:00:00-03:00  12724.959961  12724.959961  12724.959961   \n",
       " ...                                 ...           ...           ...   \n",
       " 2024-06-17 00:00:00-03:00      1.190000      1.220000      1.130000   \n",
       " 2024-06-18 00:00:00-03:00      1.200000      1.340000      1.170000   \n",
       " 2024-06-19 00:00:00-03:00      1.350000      1.510000      1.350000   \n",
       " 2024-06-20 00:00:00-03:00      1.480000      1.550000      1.330000   \n",
       " 2024-06-21 00:00:00-03:00      1.360000      1.480000      1.340000   \n",
       " \n",
       "                                   Close    Volume  Dividends  Stock Splits  \n",
       " Date                                                                        \n",
       " 2000-02-25 00:00:00-02:00  12724.959961         0        0.0           0.0  \n",
       " 2000-02-28 00:00:00-03:00  12724.959961         0        0.0           0.0  \n",
       " 2000-02-29 00:00:00-03:00  12724.959961         0        0.0           0.0  \n",
       " 2000-03-01 00:00:00-03:00  12724.959961         0        0.0           0.0  \n",
       " 2000-03-02 00:00:00-03:00  12724.959961         0        0.0           0.0  \n",
       " ...                                 ...       ...        ...           ...  \n",
       " 2024-06-17 00:00:00-03:00      1.130000   2443000        0.0           0.0  \n",
       " 2024-06-18 00:00:00-03:00      1.290000   7905900        0.0           0.0  \n",
       " 2024-06-19 00:00:00-03:00      1.450000  13098500        0.0           0.0  \n",
       " 2024-06-20 00:00:00-03:00      1.360000   6604200        0.0           0.0  \n",
       " 2024-06-21 00:00:00-03:00      1.340000   5173100        0.0           0.0  \n",
       " \n",
       " [6106 rows x 7 columns],\n",
       " 'PETR4.SA':                                 Open       High        Low      Close  \\\n",
       " Date                                                                    \n",
       " 2000-01-03 00:00:00-02:00   1.402439   1.402439   1.402439   1.402439   \n",
       " 2000-01-04 00:00:00-02:00   1.324858   1.324858   1.324858   1.324858   \n",
       " 2000-01-05 00:00:00-02:00   1.311490   1.311490   1.311490   1.311490   \n",
       " 2000-01-06 00:00:00-02:00   1.306954   1.306954   1.306954   1.306954   \n",
       " 2000-01-07 00:00:00-02:00   1.312922   1.312922   1.312922   1.312922   \n",
       " ...                              ...        ...        ...        ...   \n",
       " 2024-06-17 00:00:00-03:00  34.410000  35.130001  34.270000  34.810001   \n",
       " 2024-06-18 00:00:00-03:00  34.889999  36.139999  34.820000  35.900002   \n",
       " 2024-06-19 00:00:00-03:00  35.900002  36.119999  35.570000  35.930000   \n",
       " 2024-06-20 00:00:00-03:00  36.220001  36.889999  36.200001  36.500000   \n",
       " 2024-06-21 00:00:00-03:00  36.549999  36.959999  36.380001  36.689999   \n",
       " \n",
       "                                 Volume  Dividends  Stock Splits  \n",
       " Date                                                             \n",
       " 2000-01-03 00:00:00-02:00  35389440000        0.0           0.0  \n",
       " 2000-01-04 00:00:00-02:00  28861440000        0.0           0.0  \n",
       " 2000-01-05 00:00:00-02:00  43033600000        0.0           0.0  \n",
       " 2000-01-06 00:00:00-02:00  34055680000        0.0           0.0  \n",
       " 2000-01-07 00:00:00-02:00  20912640000        0.0           0.0  \n",
       " ...                                ...        ...           ...  \n",
       " 2024-06-17 00:00:00-03:00     40941800        0.0           0.0  \n",
       " 2024-06-18 00:00:00-03:00     36180700        0.0           0.0  \n",
       " 2024-06-19 00:00:00-03:00     20776200        0.0           0.0  \n",
       " 2024-06-20 00:00:00-03:00     39442900        0.0           0.0  \n",
       " 2024-06-21 00:00:00-03:00     43340200        0.0           0.0  \n",
       " \n",
       " [6145 rows x 7 columns],\n",
       " 'OPCT3.SA':                             Open   High    Low  Close    Volume  Dividends  \\\n",
       " Date                                                                         \n",
       " 2021-02-12 00:00:00-03:00  11.09  11.48  10.75  11.15  19543200        0.0   \n",
       " 2021-02-17 00:00:00-03:00  11.15  11.16  10.85  11.14   1027200        0.0   \n",
       " 2021-02-18 00:00:00-03:00  11.14  11.15  10.82  11.14    820300        0.0   \n",
       " 2021-02-19 00:00:00-03:00  11.06  11.24  10.83  11.15    764400        0.0   \n",
       " 2021-02-22 00:00:00-03:00  10.92  10.92  10.21  10.85   2633300        0.0   \n",
       " ...                          ...    ...    ...    ...       ...        ...   \n",
       " 2024-06-17 00:00:00-03:00   6.50   6.59   6.47   6.58    378700        0.0   \n",
       " 2024-06-18 00:00:00-03:00   6.60   6.69   6.55   6.63    558400        0.0   \n",
       " 2024-06-19 00:00:00-03:00   6.64   6.65   6.50   6.60    398500        0.0   \n",
       " 2024-06-20 00:00:00-03:00   6.57   6.65   6.42   6.48    387400        0.0   \n",
       " 2024-06-21 00:00:00-03:00   6.43   6.50   6.37   6.50    372000        0.0   \n",
       " \n",
       "                            Stock Splits  \n",
       " Date                                     \n",
       " 2021-02-12 00:00:00-03:00           0.0  \n",
       " 2021-02-17 00:00:00-03:00           0.0  \n",
       " 2021-02-18 00:00:00-03:00           0.0  \n",
       " 2021-02-19 00:00:00-03:00           0.0  \n",
       " 2021-02-22 00:00:00-03:00           0.0  \n",
       " ...                                 ...  \n",
       " 2024-06-17 00:00:00-03:00           0.0  \n",
       " 2024-06-18 00:00:00-03:00           0.0  \n",
       " 2024-06-19 00:00:00-03:00           0.0  \n",
       " 2024-06-20 00:00:00-03:00           0.0  \n",
       " 2024-06-21 00:00:00-03:00           0.0  \n",
       " \n",
       " [836 rows x 7 columns],\n",
       " 'VALE3.SA':                                 Open       High        Low      Close  \\\n",
       " Date                                                                    \n",
       " 2000-01-03 00:00:00-02:00   1.531955   1.550557   1.531955   1.531955   \n",
       " 2000-01-04 00:00:00-02:00   1.517364   1.520647   1.495479   1.495479   \n",
       " 2000-01-05 00:00:00-02:00   1.477242   1.495479   1.477242   1.495479   \n",
       " 2000-01-06 00:00:00-02:00   1.495479   1.531955   1.495479   1.495479   \n",
       " 2000-01-07 00:00:00-02:00   1.513717   1.557851   1.513717   1.550192   \n",
       " ...                              ...        ...        ...        ...   \n",
       " 2024-06-17 00:00:00-03:00  60.040001  60.450001  59.840000  60.380001   \n",
       " 2024-06-18 00:00:00-03:00  60.349998  60.880001  60.220001  60.660000   \n",
       " 2024-06-19 00:00:00-03:00  60.509998  61.080002  60.369999  60.849998   \n",
       " 2024-06-20 00:00:00-03:00  61.049999  61.619999  60.820000  61.400002   \n",
       " 2024-06-21 00:00:00-03:00  61.029999  61.360001  60.740002  60.830002   \n",
       " \n",
       "                              Volume  Dividends  Stock Splits  \n",
       " Date                                                          \n",
       " 2000-01-03 00:00:00-02:00    585600        0.0           0.0  \n",
       " 2000-01-04 00:00:00-02:00    782400        0.0           0.0  \n",
       " 2000-01-05 00:00:00-02:00   1876800        0.0           0.0  \n",
       " 2000-01-06 00:00:00-02:00    792000        0.0           0.0  \n",
       " 2000-01-07 00:00:00-02:00   5347200        0.0           0.0  \n",
       " ...                             ...        ...           ...  \n",
       " 2024-06-17 00:00:00-03:00  13976100        0.0           0.0  \n",
       " 2024-06-18 00:00:00-03:00  12239900        0.0           0.0  \n",
       " 2024-06-19 00:00:00-03:00   8744100        0.0           0.0  \n",
       " 2024-06-20 00:00:00-03:00  19497200        0.0           0.0  \n",
       " 2024-06-21 00:00:00-03:00  39134100        0.0           0.0  \n",
       " \n",
       " [6145 rows x 7 columns],\n",
       " 'USIM5.SA':                                Open      High       Low     Close    Volume  \\\n",
       " Date                                                                          \n",
       " 2000-01-03 00:00:00-02:00  1.489724  1.491244  1.451721  1.459321    571500   \n",
       " 2000-01-04 00:00:00-02:00  1.444121  1.444121  1.406117  1.406117   1121400   \n",
       " 2000-01-05 00:00:00-02:00  1.413717  1.542928  1.406117  1.539888   1602450   \n",
       " 2000-01-06 00:00:00-02:00  1.520127  1.679740  1.520127  1.679740   3084300   \n",
       " 2000-01-07 00:00:00-02:00  1.679740  1.763347  1.672140  1.746626   2871000   \n",
       " ...                             ...       ...       ...       ...       ...   \n",
       " 2024-06-17 00:00:00-03:00  7.110000  7.180000  7.070000  7.100000   4801500   \n",
       " 2024-06-18 00:00:00-03:00  7.110000  7.380000  7.100000  7.230000  14084900   \n",
       " 2024-06-19 00:00:00-03:00  7.200000  7.340000  7.100000  7.340000   6269200   \n",
       " 2024-06-20 00:00:00-03:00  7.380000  7.810000  7.360000  7.610000  16758100   \n",
       " 2024-06-21 00:00:00-03:00  7.560000  7.600000  7.460000  7.540000   8416200   \n",
       " \n",
       "                            Dividends  Stock Splits  \n",
       " Date                                                \n",
       " 2000-01-03 00:00:00-02:00        0.0           0.0  \n",
       " 2000-01-04 00:00:00-02:00        0.0           0.0  \n",
       " 2000-01-05 00:00:00-02:00        0.0           0.0  \n",
       " 2000-01-06 00:00:00-02:00        0.0           0.0  \n",
       " 2000-01-07 00:00:00-02:00        0.0           0.0  \n",
       " ...                              ...           ...  \n",
       " 2024-06-17 00:00:00-03:00        0.0           0.0  \n",
       " 2024-06-18 00:00:00-03:00        0.0           0.0  \n",
       " 2024-06-19 00:00:00-03:00        0.0           0.0  \n",
       " 2024-06-20 00:00:00-03:00        0.0           0.0  \n",
       " 2024-06-21 00:00:00-03:00        0.0           0.0  \n",
       " \n",
       " [6145 rows x 7 columns]}"
      ]
     },
     "execution_count": 2,
     "metadata": {},
     "output_type": "execute_result"
    }
   ],
   "source": [
    "# Criando lista com os ticks das ações\n",
    "tickers = [\"ETER3.SA\", \"AZEV4.SA\", \"PETR4.SA\", \"OPCT3.SA\", \"VALE3.SA\", \"USIM5.SA\"]\n",
    "\n",
    "\n",
    "dataframes = {}\n",
    "for tick in tickers:\n",
    "    data = yf.Ticker(tick)\n",
    "    df = data.history(period=\"max\")\n",
    "    dataframes[tick] = df\n",
    "\n",
    "\n",
    "dataframes"
   ]
  },
  {
   "cell_type": "markdown",
   "metadata": {},
   "source": [
    "Verificando a data de início para os dados históricos de cada ação:"
   ]
  },
  {
   "cell_type": "code",
   "execution_count": 3,
   "metadata": {},
   "outputs": [
    {
     "name": "stdout",
     "output_type": "stream",
     "text": [
      "ETER3.SA: 2000-01-03 00:00:00-02:00\n",
      "AZEV4.SA: 2000-02-25 00:00:00-02:00\n",
      "PETR4.SA: 2000-01-03 00:00:00-02:00\n",
      "OPCT3.SA: 2021-02-12 00:00:00-03:00\n",
      "VALE3.SA: 2000-01-03 00:00:00-02:00\n",
      "USIM5.SA: 2000-01-03 00:00:00-02:00\n"
     ]
    }
   ],
   "source": [
    "for key, value in dataframes.items():\n",
    "    print(f\"{key}: {value.index.min()}\")"
   ]
  },
  {
   "cell_type": "markdown",
   "metadata": {},
   "source": [
    "A menor data disponível dentre as ações selecionadas para o trabalho é 2021-02-12. Portanto, iremos filtrar todos os dataframes para trabalhar com dados a partir de 03/2021, facilitando assim a comparação entre as ações."
   ]
  },
  {
   "cell_type": "code",
   "execution_count": 4,
   "metadata": {},
   "outputs": [],
   "source": [
    "# Filtrando os DataFrames para datas a partir de \"2021-02-12\"\n",
    "for nome, df in dataframes.items():\n",
    "    dataframes[nome] = df.loc[\"2021-03-01\":]"
   ]
  },
  {
   "cell_type": "code",
   "execution_count": 5,
   "metadata": {},
   "outputs": [],
   "source": [
    "# Salvando dataframes em arquivos csv\n",
    "for key, value in dataframes.items():\n",
    "    value.to_csv(f\"data\\\\df_{key.split('.')[0]}.csv\")"
   ]
  },
  {
   "cell_type": "markdown",
   "metadata": {},
   "source": [
    "#### **Dados Mercado de Referência**"
   ]
  },
  {
   "cell_type": "markdown",
   "metadata": {},
   "source": [
    "Nesta seção, serão coletados os dados do IBOVESPA, que serão utilizados para os cálculos de portfólio."
   ]
  },
  {
   "cell_type": "code",
   "execution_count": 6,
   "metadata": {},
   "outputs": [
    {
     "name": "stderr",
     "output_type": "stream",
     "text": [
      "[*********************100%%**********************]  1 of 1 completed"
     ]
    },
    {
     "name": "stdout",
     "output_type": "stream",
     "text": [
      "                Open      High       Low     Close  Adj Close    Volume\n",
      "Date                                                                   \n",
      "2021-03-01  110036.0  112445.0  110036.0  110335.0   110335.0  11239900\n",
      "2021-03-02  110328.0  112428.0  107319.0  111540.0   111540.0  14823200\n",
      "2021-03-03  111529.0  112398.0  107466.0  111184.0   111184.0  15144300\n",
      "2021-03-04  111191.0  114433.0  111163.0  112690.0   112690.0  14221600\n",
      "2021-03-05  112690.0  115504.0  112504.0  115202.0   115202.0  13254800\n"
     ]
    },
    {
     "name": "stderr",
     "output_type": "stream",
     "text": [
      "\n"
     ]
    }
   ],
   "source": [
    "# Definir o símbolo do IBOVESPA\n",
    "ibovespa_symbol = '^BVSP'\n",
    "\n",
    "# Baixar os dados históricos do IBOVESPA\n",
    "ibovespa_data = yf.download(ibovespa_symbol, start='2021-03-01')\n",
    "\n",
    "# Exibir as primeiras linhas do dataframe\n",
    "print(ibovespa_data.head())"
   ]
  },
  {
   "cell_type": "code",
   "execution_count": 7,
   "metadata": {},
   "outputs": [],
   "source": [
    "# Salvando dataframe\n",
    "ibovespa_data.to_csv(\"data\\\\df_IBOVESPA.csv\")"
   ]
  }
 ],
 "metadata": {
  "kernelspec": {
   "display_name": "f_a_f_env",
   "language": "python",
   "name": "python3"
  },
  "language_info": {
   "codemirror_mode": {
    "name": "ipython",
    "version": 3
   },
   "file_extension": ".py",
   "mimetype": "text/x-python",
   "name": "python",
   "nbconvert_exporter": "python",
   "pygments_lexer": "ipython3",
   "version": "3.12.4"
  }
 },
 "nbformat": 4,
 "nbformat_minor": 2
}
