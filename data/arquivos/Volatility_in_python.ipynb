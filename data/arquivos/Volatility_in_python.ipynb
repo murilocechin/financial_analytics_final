{
  "cells": [
    {
      "cell_type": "code",
      "execution_count": null,
      "metadata": {
        "id": "UDU93-LZwySz"
      },
      "outputs": [],
      "source": [
        "# run in first lines for installing\n",
        "# !pip install yfinance\n",
        "import pandas as pd\n",
        "import yfinance as yf\n",
        "import matplotlib.pyplot as plt\n",
        "import numpy as np"
      ]
    },
    {
      "cell_type": "markdown",
      "metadata": {
        "id": "z7qT19kqUz0C"
      },
      "source": [
        "## Usando o pacote yfinance para capturar dados históricos"
      ]
    },
    {
      "cell_type": "code",
      "execution_count": null,
      "metadata": {
        "id": "IlGmzxyZw3px"
      },
      "outputs": [],
      "source": [
        "# Using yfinance to get Petrobras prices\n",
        "petro = yf.Ticker(\"PETR4.SA\")\n",
        "\n",
        "# get historical market data\n",
        "# hist = petro.history(period = \"5y\")\n",
        "\n",
        "# other way is determining a period\n",
        "hist = petro.history(start=\"2007-01-01\", end=\"2022-11-03\")\n"
      ]
    },
    {
      "cell_type": "code",
      "execution_count": null,
      "metadata": {
        "colab": {
          "base_uri": "https://localhost:8080/"
        },
        "id": "DoJOAM9WRvIy",
        "outputId": "7b823597-5bfd-4e97-90ca-57d13a33f5ed"
      },
      "outputs": [
        {
          "data": {
            "text/plain": [
              "{'address1': 'Avenida RepUblica do Chile, 65',\n",
              " 'address2': 'Centro',\n",
              " 'city': 'Rio De Janeiro',\n",
              " 'state': 'RJ',\n",
              " 'zip': '20031-912',\n",
              " 'country': 'Brazil',\n",
              " 'phone': '55 21 96940 2116',\n",
              " 'website': 'https://petrobras.com.br',\n",
              " 'industry': 'Oil & Gas Integrated',\n",
              " 'industryDisp': 'Oil & Gas Integrated',\n",
              " 'sector': 'Energy',\n",
              " 'sectorDisp': 'Energy',\n",
              " 'longBusinessSummary': 'Petróleo Brasileiro S.A. - Petrobras explores, produces, and sells oil and gas in Brazil and internationally. The company operates through Exploration and Production; Refining, Transportation and Marketing; and Gas and Power. It also engages in prospecting, drilling, refining, processing, trading, and transporting crude oil from producing onshore and offshore oil fields, and shale or other rocks, as well as oil products, natural gas, and other liquid hydrocarbons. The Exploration and Production segment explores, develops, and produces crude oil, natural gas liquids, and natural gas primarily for supplies to the domestic refineries. The Refining, Transportation and Marketing segment engages in the refining, logistics, transport, marketing, and trading of crude oil and oil products; exportation of ethanol; and extraction and processing of shale, as well as holding interests in petrochemical companies. The Gas and Power segment is involved in the logistic and trading of natural gas and electricity; transportation and trading of LNG; generation of electricity through thermoelectric power plants; holding interests in transportation and distribution of natural gas; and fertilizer production and natural gas processing business. In addition, the company produces biodiesel and its co-products, and ethanol; and distributes oil products. Further, it engages in research, development, production, transport, distribution, and trading of energy. Petróleo Brasileiro S.A. - Petrobras was incorporated in 1953 and is headquartered in Rio de Janeiro, Brazil.',\n",
              " 'fullTimeEmployees': 45149,\n",
              " 'companyOfficers': [{'maxAge': 1,\n",
              "   'name': 'Mr. Jean Paul Terra Prates',\n",
              "   'age': 53,\n",
              "   'title': 'CEO & Director',\n",
              "   'yearBorn': 1969,\n",
              "   'exercisedValue': 0,\n",
              "   'unexercisedValue': 0},\n",
              "  {'maxAge': 1,\n",
              "   'name': 'Mr. Sergio Caetano Leite',\n",
              "   'age': 52,\n",
              "   'title': 'Chief Financial & Investor Relations Officer and Member of Exec. Board',\n",
              "   'yearBorn': 1970,\n",
              "   'exercisedValue': 0,\n",
              "   'unexercisedValue': 0},\n",
              "  {'maxAge': 1,\n",
              "   'name': 'Mr. Mario Vinicius Claussen Spinelli',\n",
              "   'title': 'Chief Governance & Compliance Officer and Member of Exec. Board',\n",
              "   'exercisedValue': 0,\n",
              "   'unexercisedValue': 0},\n",
              "  {'maxAge': 1,\n",
              "   'name': 'Mr. Joelson Falcao Mendes',\n",
              "   'age': 53,\n",
              "   'title': 'Chief Exploration & Production Officer and Member of Exec. Board',\n",
              "   'yearBorn': 1969,\n",
              "   'exercisedValue': 0,\n",
              "   'unexercisedValue': 0},\n",
              "  {'maxAge': 1,\n",
              "   'name': 'Mr. Carlos Jose do Nascimento Travassos',\n",
              "   'age': 54,\n",
              "   'title': 'Chief Engineering, Technology & Innovation Officer and Member of Exec. Board',\n",
              "   'yearBorn': 1968,\n",
              "   'exercisedValue': 0,\n",
              "   'unexercisedValue': 0},\n",
              "  {'maxAge': 1,\n",
              "   'name': 'Mr. Claudio Romeo Schlosser',\n",
              "   'age': 57,\n",
              "   'title': 'Chief Logistics, Commercialization & Markets Officer and Member of Exec. Board',\n",
              "   'yearBorn': 1965,\n",
              "   'exercisedValue': 0,\n",
              "   'unexercisedValue': 0},\n",
              "  {'maxAge': 1,\n",
              "   'name': 'Mr. William Franca da Silva',\n",
              "   'title': 'Chief Industrial Processes & Products Officer and Member of Exec. Board',\n",
              "   'exercisedValue': 0,\n",
              "   'unexercisedValue': 0},\n",
              "  {'maxAge': 1,\n",
              "   'name': 'Ms. Clarice  Coppetti',\n",
              "   'age': 58,\n",
              "   'title': 'Chief Corp. Affairs Officer & Member of Exec. Board',\n",
              "   'yearBorn': 1964,\n",
              "   'exercisedValue': 0,\n",
              "   'unexercisedValue': 0},\n",
              "  {'maxAge': 1,\n",
              "   'name': 'Mr. Mauricio Tiomno Tolmasquim',\n",
              "   'title': 'Chief Energy Transition & Sustainability Officer and Member of Exec. Board',\n",
              "   'exercisedValue': 0,\n",
              "   'unexercisedValue': 0},\n",
              "  {'maxAge': 1,\n",
              "   'name': 'Mr. Hélio Siqueira Júnior',\n",
              "   'title': 'Acting Gen. Counsel',\n",
              "   'exercisedValue': 0,\n",
              "   'unexercisedValue': 0}],\n",
              " 'auditRisk': 2,\n",
              " 'boardRisk': 5,\n",
              " 'compensationRisk': 1,\n",
              " 'shareHolderRightsRisk': 10,\n",
              " 'overallRisk': 4,\n",
              " 'governanceEpochDate': 1690848000,\n",
              " 'maxAge': 86400,\n",
              " 'priceHint': 2,\n",
              " 'previousClose': 31.44,\n",
              " 'open': 31.41,\n",
              " 'dayLow': 31.18,\n",
              " 'dayHigh': 31.68,\n",
              " 'regularMarketPreviousClose': 31.44,\n",
              " 'regularMarketOpen': 31.41,\n",
              " 'regularMarketDayLow': 31.18,\n",
              " 'regularMarketDayHigh': 31.68,\n",
              " 'dividendRate': 7.54,\n",
              " 'dividendYield': 0.239,\n",
              " 'exDividendDate': 1692662400,\n",
              " 'payoutRatio': 1.1091,\n",
              " 'fiveYearAvgDividendYield': 15.12,\n",
              " 'beta': 0.943127,\n",
              " 'trailingPE': 2.447205,\n",
              " 'forwardPE': 4.2826085,\n",
              " 'volume': 45156300,\n",
              " 'regularMarketVolume': 45156300,\n",
              " 'averageVolume': 56593670,\n",
              " 'averageVolume10days': 51471130,\n",
              " 'averageDailyVolume10Day': 51471130,\n",
              " 'bid': 31.52,\n",
              " 'ask': 31.52,\n",
              " 'bidSize': 0,\n",
              " 'askSize': 0,\n",
              " 'marketCap': 437336866816,\n",
              " 'fiftyTwoWeekLow': 20.77,\n",
              " 'fiftyTwoWeekHigh': 38.39,\n",
              " 'priceToSalesTrailing12Months': 0.7520026,\n",
              " 'fiftyDayAverage': 30.2116,\n",
              " 'twoHundredDayAverage': 26.47105,\n",
              " 'trailingAnnualDividendRate': 6.439,\n",
              " 'trailingAnnualDividendYield': 0.2048028,\n",
              " 'currency': 'BRL',\n",
              " 'enterpriseValue': 631141236736,\n",
              " 'profitMargins': 0.26889,\n",
              " 'floatShares': 8267936527,\n",
              " 'sharesOutstanding': 5601970176,\n",
              " 'heldPercentInsiders': 0.16073,\n",
              " 'heldPercentInstitutions': 0.35612,\n",
              " 'impliedSharesOutstanding': 0,\n",
              " 'bookValue': 28.417,\n",
              " 'priceToBook': 1.1091952,\n",
              " 'lastFiscalYearEnd': 1672444800,\n",
              " 'nextFiscalYearEnd': 1703980800,\n",
              " 'mostRecentQuarter': 1688083200,\n",
              " 'earningsQuarterlyGrowth': -0.47,\n",
              " 'netIncomeToCommon': 156375007232,\n",
              " 'trailingEps': 12.88,\n",
              " 'forwardEps': 7.36,\n",
              " 'pegRatio': -0.55,\n",
              " 'lastSplitFactor': '2:1',\n",
              " 'lastSplitDate': 1209340800,\n",
              " 'enterpriseToRevenue': 1.085,\n",
              " 'enterpriseToEbitda': 2.168,\n",
              " '52WeekChange': -0.027460635,\n",
              " 'SandP52WeekChange': 0.055998206,\n",
              " 'lastDividendValue': 1.149304,\n",
              " 'lastDividendDate': 1692662400,\n",
              " 'exchange': 'SAO',\n",
              " 'quoteType': 'EQUITY',\n",
              " 'symbol': 'PETR4.SA',\n",
              " 'underlyingSymbol': 'PETR4.SA',\n",
              " 'shortName': 'PETROBRAS   PN      N2',\n",
              " 'longName': 'Petróleo Brasileiro S.A. - Petrobras',\n",
              " 'firstTradeDateEpochUtc': 946900800,\n",
              " 'timeZoneFullName': 'America/Sao_Paulo',\n",
              " 'timeZoneShortName': 'BRT',\n",
              " 'uuid': 'f698f172-aeef-3c5e-887d-d45f94bdd057',\n",
              " 'messageBoardId': 'finmb_409268',\n",
              " 'gmtOffSetMilliseconds': -10800000,\n",
              " 'currentPrice': 31.52,\n",
              " 'targetHighPrice': 49.0,\n",
              " 'targetLowPrice': 26.0,\n",
              " 'targetMeanPrice': 35.11,\n",
              " 'targetMedianPrice': 34.5,\n",
              " 'recommendationMean': 2.7,\n",
              " 'recommendationKey': 'hold',\n",
              " 'numberOfAnalystOpinions': 11,\n",
              " 'totalCash': 60984999936,\n",
              " 'totalCashPerShare': 4.675,\n",
              " 'ebitda': 291086991360,\n",
              " 'totalDebt': 279374987264,\n",
              " 'quickRatio': 0.583,\n",
              " 'currentRatio': 0.902,\n",
              " 'totalRevenue': 581562990592,\n",
              " 'debtToEquity': 75.044,\n",
              " 'revenuePerShare': 44.584,\n",
              " 'returnOnAssets': 0.15427,\n",
              " 'returnOnEquity': 0.39988,\n",
              " 'grossProfits': 334100000000,\n",
              " 'freeCashflow': 187539374080,\n",
              " 'operatingCashflow': 232292007936,\n",
              " 'earningsGrowth': -0.47,\n",
              " 'revenueGrowth': -0.334,\n",
              " 'grossMargins': 0.50633,\n",
              " 'ebitdaMargins': 0.50053,\n",
              " 'operatingMargins': 0.42341,\n",
              " 'financialCurrency': 'BRL',\n",
              " 'trailingPegRatio': None}"
            ]
          },
          "execution_count": 47,
          "metadata": {},
          "output_type": "execute_result"
        }
      ],
      "source": [
        "# get stock info: some of the features of yfinance\n",
        "petro.info"
      ]
    },
    {
      "cell_type": "code",
      "execution_count": null,
      "metadata": {
        "colab": {
          "base_uri": "https://localhost:8080/",
          "height": 455
        },
        "id": "T7vluQcSxrVf",
        "outputId": "2de77183-e4b7-4e8a-b8c8-0dcd64972f2d"
      },
      "outputs": [
        {
          "data": {
            "text/html": [
              "\n",
              "  <div id=\"df-8e8602e1-15b4-4481-8ea9-268ae522ce28\" class=\"colab-df-container\">\n",
              "    <div>\n",
              "<style scoped>\n",
              "    .dataframe tbody tr th:only-of-type {\n",
              "        vertical-align: middle;\n",
              "    }\n",
              "\n",
              "    .dataframe tbody tr th {\n",
              "        vertical-align: top;\n",
              "    }\n",
              "\n",
              "    .dataframe thead th {\n",
              "        text-align: right;\n",
              "    }\n",
              "</style>\n",
              "<table border=\"1\" class=\"dataframe\">\n",
              "  <thead>\n",
              "    <tr style=\"text-align: right;\">\n",
              "      <th></th>\n",
              "      <th>Open</th>\n",
              "      <th>High</th>\n",
              "      <th>Low</th>\n",
              "      <th>Close</th>\n",
              "      <th>Volume</th>\n",
              "      <th>Dividends</th>\n",
              "      <th>Stock Splits</th>\n",
              "    </tr>\n",
              "    <tr>\n",
              "      <th>Date</th>\n",
              "      <th></th>\n",
              "      <th></th>\n",
              "      <th></th>\n",
              "      <th></th>\n",
              "      <th></th>\n",
              "      <th></th>\n",
              "      <th></th>\n",
              "    </tr>\n",
              "  </thead>\n",
              "  <tbody>\n",
              "    <tr>\n",
              "      <th>2007-01-02 00:00:00-02:00</th>\n",
              "      <td>7.221945</td>\n",
              "      <td>7.286942</td>\n",
              "      <td>7.187279</td>\n",
              "      <td>7.268165</td>\n",
              "      <td>10244800</td>\n",
              "      <td>0.225</td>\n",
              "      <td>0.0</td>\n",
              "    </tr>\n",
              "    <tr>\n",
              "      <th>2007-01-03 00:00:00-02:00</th>\n",
              "      <td>7.245053</td>\n",
              "      <td>7.279718</td>\n",
              "      <td>6.934509</td>\n",
              "      <td>7.047172</td>\n",
              "      <td>19898600</td>\n",
              "      <td>0.000</td>\n",
              "      <td>0.0</td>\n",
              "    </tr>\n",
              "    <tr>\n",
              "      <th>2007-01-04 00:00:00-02:00</th>\n",
              "      <td>7.005285</td>\n",
              "      <td>7.041394</td>\n",
              "      <td>6.846402</td>\n",
              "      <td>6.889734</td>\n",
              "      <td>21060200</td>\n",
              "      <td>0.000</td>\n",
              "      <td>0.0</td>\n",
              "    </tr>\n",
              "    <tr>\n",
              "      <th>2007-01-05 00:00:00-02:00</th>\n",
              "      <td>6.817516</td>\n",
              "      <td>6.931623</td>\n",
              "      <td>6.514194</td>\n",
              "      <td>6.680299</td>\n",
              "      <td>24864000</td>\n",
              "      <td>0.000</td>\n",
              "      <td>0.0</td>\n",
              "    </tr>\n",
              "    <tr>\n",
              "      <th>2007-01-08 00:00:00-02:00</th>\n",
              "      <td>6.716409</td>\n",
              "      <td>6.808849</td>\n",
              "      <td>6.615301</td>\n",
              "      <td>6.758296</td>\n",
              "      <td>19440200</td>\n",
              "      <td>0.000</td>\n",
              "      <td>0.0</td>\n",
              "    </tr>\n",
              "    <tr>\n",
              "      <th>...</th>\n",
              "      <td>...</td>\n",
              "      <td>...</td>\n",
              "      <td>...</td>\n",
              "      <td>...</td>\n",
              "      <td>...</td>\n",
              "      <td>...</td>\n",
              "      <td>...</td>\n",
              "    </tr>\n",
              "    <tr>\n",
              "      <th>2022-10-26 00:00:00-03:00</th>\n",
              "      <td>23.826049</td>\n",
              "      <td>24.505750</td>\n",
              "      <td>23.314448</td>\n",
              "      <td>23.906445</td>\n",
              "      <td>121334800</td>\n",
              "      <td>0.000</td>\n",
              "      <td>0.0</td>\n",
              "    </tr>\n",
              "    <tr>\n",
              "      <th>2022-10-27 00:00:00-03:00</th>\n",
              "      <td>23.979534</td>\n",
              "      <td>24.513061</td>\n",
              "      <td>23.877211</td>\n",
              "      <td>24.089161</td>\n",
              "      <td>111008800</td>\n",
              "      <td>0.000</td>\n",
              "      <td>0.0</td>\n",
              "    </tr>\n",
              "    <tr>\n",
              "      <th>2022-10-28 00:00:00-03:00</th>\n",
              "      <td>23.899137</td>\n",
              "      <td>24.206098</td>\n",
              "      <td>23.285215</td>\n",
              "      <td>23.804125</td>\n",
              "      <td>129745400</td>\n",
              "      <td>0.000</td>\n",
              "      <td>0.0</td>\n",
              "    </tr>\n",
              "    <tr>\n",
              "      <th>2022-10-31 00:00:00-03:00</th>\n",
              "      <td>22.371640</td>\n",
              "      <td>23.095192</td>\n",
              "      <td>21.311892</td>\n",
              "      <td>21.786951</td>\n",
              "      <td>262409400</td>\n",
              "      <td>0.000</td>\n",
              "      <td>0.0</td>\n",
              "    </tr>\n",
              "    <tr>\n",
              "      <th>2022-11-01 00:00:00-03:00</th>\n",
              "      <td>22.342404</td>\n",
              "      <td>22.415491</td>\n",
              "      <td>21.604235</td>\n",
              "      <td>21.823494</td>\n",
              "      <td>115944200</td>\n",
              "      <td>0.000</td>\n",
              "      <td>0.0</td>\n",
              "    </tr>\n",
              "  </tbody>\n",
              "</table>\n",
              "<p>3927 rows × 7 columns</p>\n",
              "</div>\n",
              "    <div class=\"colab-df-buttons\">\n",
              "\n",
              "  <div class=\"colab-df-container\">\n",
              "    <button class=\"colab-df-convert\" onclick=\"convertToInteractive('df-8e8602e1-15b4-4481-8ea9-268ae522ce28')\"\n",
              "            title=\"Convert this dataframe to an interactive table.\"\n",
              "            style=\"display:none;\">\n",
              "\n",
              "  <svg xmlns=\"http://www.w3.org/2000/svg\" height=\"24px\" viewBox=\"0 -960 960 960\">\n",
              "    <path d=\"M120-120v-720h720v720H120Zm60-500h600v-160H180v160Zm220 220h160v-160H400v160Zm0 220h160v-160H400v160ZM180-400h160v-160H180v160Zm440 0h160v-160H620v160ZM180-180h160v-160H180v160Zm440 0h160v-160H620v160Z\"/>\n",
              "  </svg>\n",
              "    </button>\n",
              "\n",
              "  <style>\n",
              "    .colab-df-container {\n",
              "      display:flex;\n",
              "      gap: 12px;\n",
              "    }\n",
              "\n",
              "    .colab-df-convert {\n",
              "      background-color: #E8F0FE;\n",
              "      border: none;\n",
              "      border-radius: 50%;\n",
              "      cursor: pointer;\n",
              "      display: none;\n",
              "      fill: #1967D2;\n",
              "      height: 32px;\n",
              "      padding: 0 0 0 0;\n",
              "      width: 32px;\n",
              "    }\n",
              "\n",
              "    .colab-df-convert:hover {\n",
              "      background-color: #E2EBFA;\n",
              "      box-shadow: 0px 1px 2px rgba(60, 64, 67, 0.3), 0px 1px 3px 1px rgba(60, 64, 67, 0.15);\n",
              "      fill: #174EA6;\n",
              "    }\n",
              "\n",
              "    .colab-df-buttons div {\n",
              "      margin-bottom: 4px;\n",
              "    }\n",
              "\n",
              "    [theme=dark] .colab-df-convert {\n",
              "      background-color: #3B4455;\n",
              "      fill: #D2E3FC;\n",
              "    }\n",
              "\n",
              "    [theme=dark] .colab-df-convert:hover {\n",
              "      background-color: #434B5C;\n",
              "      box-shadow: 0px 1px 3px 1px rgba(0, 0, 0, 0.15);\n",
              "      filter: drop-shadow(0px 1px 2px rgba(0, 0, 0, 0.3));\n",
              "      fill: #FFFFFF;\n",
              "    }\n",
              "  </style>\n",
              "\n",
              "    <script>\n",
              "      const buttonEl =\n",
              "        document.querySelector('#df-8e8602e1-15b4-4481-8ea9-268ae522ce28 button.colab-df-convert');\n",
              "      buttonEl.style.display =\n",
              "        google.colab.kernel.accessAllowed ? 'block' : 'none';\n",
              "\n",
              "      async function convertToInteractive(key) {\n",
              "        const element = document.querySelector('#df-8e8602e1-15b4-4481-8ea9-268ae522ce28');\n",
              "        const dataTable =\n",
              "          await google.colab.kernel.invokeFunction('convertToInteractive',\n",
              "                                                    [key], {});\n",
              "        if (!dataTable) return;\n",
              "\n",
              "        const docLinkHtml = 'Like what you see? Visit the ' +\n",
              "          '<a target=\"_blank\" href=https://colab.research.google.com/notebooks/data_table.ipynb>data table notebook</a>'\n",
              "          + ' to learn more about interactive tables.';\n",
              "        element.innerHTML = '';\n",
              "        dataTable['output_type'] = 'display_data';\n",
              "        await google.colab.output.renderOutput(dataTable, element);\n",
              "        const docLink = document.createElement('div');\n",
              "        docLink.innerHTML = docLinkHtml;\n",
              "        element.appendChild(docLink);\n",
              "      }\n",
              "    </script>\n",
              "  </div>\n",
              "\n",
              "\n",
              "<div id=\"df-dd3f3147-fa0d-4af4-a827-a8de7d939a51\">\n",
              "  <button class=\"colab-df-quickchart\" onclick=\"quickchart('df-dd3f3147-fa0d-4af4-a827-a8de7d939a51')\"\n",
              "            title=\"Suggest charts.\"\n",
              "            style=\"display:none;\">\n",
              "\n",
              "<svg xmlns=\"http://www.w3.org/2000/svg\" height=\"24px\"viewBox=\"0 0 24 24\"\n",
              "     width=\"24px\">\n",
              "    <g>\n",
              "        <path d=\"M19 3H5c-1.1 0-2 .9-2 2v14c0 1.1.9 2 2 2h14c1.1 0 2-.9 2-2V5c0-1.1-.9-2-2-2zM9 17H7v-7h2v7zm4 0h-2V7h2v10zm4 0h-2v-4h2v4z\"/>\n",
              "    </g>\n",
              "</svg>\n",
              "  </button>\n",
              "\n",
              "<style>\n",
              "  .colab-df-quickchart {\n",
              "    background-color: #E8F0FE;\n",
              "    border: none;\n",
              "    border-radius: 50%;\n",
              "    cursor: pointer;\n",
              "    display: none;\n",
              "    fill: #1967D2;\n",
              "    height: 32px;\n",
              "    padding: 0 0 0 0;\n",
              "    width: 32px;\n",
              "  }\n",
              "\n",
              "  .colab-df-quickchart:hover {\n",
              "    background-color: #E2EBFA;\n",
              "    box-shadow: 0px 1px 2px rgba(60, 64, 67, 0.3), 0px 1px 3px 1px rgba(60, 64, 67, 0.15);\n",
              "    fill: #174EA6;\n",
              "  }\n",
              "\n",
              "  [theme=dark] .colab-df-quickchart {\n",
              "    background-color: #3B4455;\n",
              "    fill: #D2E3FC;\n",
              "  }\n",
              "\n",
              "  [theme=dark] .colab-df-quickchart:hover {\n",
              "    background-color: #434B5C;\n",
              "    box-shadow: 0px 1px 3px 1px rgba(0, 0, 0, 0.15);\n",
              "    filter: drop-shadow(0px 1px 2px rgba(0, 0, 0, 0.3));\n",
              "    fill: #FFFFFF;\n",
              "  }\n",
              "</style>\n",
              "\n",
              "  <script>\n",
              "    async function quickchart(key) {\n",
              "      const charts = await google.colab.kernel.invokeFunction(\n",
              "          'suggestCharts', [key], {});\n",
              "    }\n",
              "    (() => {\n",
              "      let quickchartButtonEl =\n",
              "        document.querySelector('#df-dd3f3147-fa0d-4af4-a827-a8de7d939a51 button');\n",
              "      quickchartButtonEl.style.display =\n",
              "        google.colab.kernel.accessAllowed ? 'block' : 'none';\n",
              "    })();\n",
              "  </script>\n",
              "</div>\n",
              "    </div>\n",
              "  </div>\n"
            ],
            "text/plain": [
              "                                Open       High        Low      Close  \\\n",
              "Date                                                                    \n",
              "2007-01-02 00:00:00-02:00   7.221945   7.286942   7.187279   7.268165   \n",
              "2007-01-03 00:00:00-02:00   7.245053   7.279718   6.934509   7.047172   \n",
              "2007-01-04 00:00:00-02:00   7.005285   7.041394   6.846402   6.889734   \n",
              "2007-01-05 00:00:00-02:00   6.817516   6.931623   6.514194   6.680299   \n",
              "2007-01-08 00:00:00-02:00   6.716409   6.808849   6.615301   6.758296   \n",
              "...                              ...        ...        ...        ...   \n",
              "2022-10-26 00:00:00-03:00  23.826049  24.505750  23.314448  23.906445   \n",
              "2022-10-27 00:00:00-03:00  23.979534  24.513061  23.877211  24.089161   \n",
              "2022-10-28 00:00:00-03:00  23.899137  24.206098  23.285215  23.804125   \n",
              "2022-10-31 00:00:00-03:00  22.371640  23.095192  21.311892  21.786951   \n",
              "2022-11-01 00:00:00-03:00  22.342404  22.415491  21.604235  21.823494   \n",
              "\n",
              "                              Volume  Dividends  Stock Splits  \n",
              "Date                                                           \n",
              "2007-01-02 00:00:00-02:00   10244800      0.225           0.0  \n",
              "2007-01-03 00:00:00-02:00   19898600      0.000           0.0  \n",
              "2007-01-04 00:00:00-02:00   21060200      0.000           0.0  \n",
              "2007-01-05 00:00:00-02:00   24864000      0.000           0.0  \n",
              "2007-01-08 00:00:00-02:00   19440200      0.000           0.0  \n",
              "...                              ...        ...           ...  \n",
              "2022-10-26 00:00:00-03:00  121334800      0.000           0.0  \n",
              "2022-10-27 00:00:00-03:00  111008800      0.000           0.0  \n",
              "2022-10-28 00:00:00-03:00  129745400      0.000           0.0  \n",
              "2022-10-31 00:00:00-03:00  262409400      0.000           0.0  \n",
              "2022-11-01 00:00:00-03:00  115944200      0.000           0.0  \n",
              "\n",
              "[3927 rows x 7 columns]"
            ]
          },
          "execution_count": 48,
          "metadata": {},
          "output_type": "execute_result"
        }
      ],
      "source": [
        "hist"
      ]
    },
    {
      "cell_type": "code",
      "execution_count": null,
      "metadata": {
        "id": "HlkcbU-vwLLj"
      },
      "outputs": [],
      "source": [
        "# creating log returns\n",
        "log_prices = np.log(hist[\"Close\"])\n",
        "log_returns = log_prices.diff().dropna()\n",
        "\n",
        "# another way without using first differences and log\n",
        "log_returns2 = hist[\"Close\"].pct_change().dropna()"
      ]
    },
    {
      "cell_type": "code",
      "execution_count": null,
      "metadata": {
        "colab": {
          "base_uri": "https://localhost:8080/"
        },
        "id": "zwXc6SzQzVzc",
        "outputId": "211ed838-a174-4c02-f5a8-e71f39362cb2"
      },
      "outputs": [
        {
          "data": {
            "text/plain": [
              "Date\n",
              "2007-01-02 00:00:00-02:00    1.983504\n",
              "2007-01-03 00:00:00-02:00    1.952626\n",
              "2007-01-04 00:00:00-02:00    1.930032\n",
              "2007-01-05 00:00:00-02:00    1.899163\n",
              "2007-01-08 00:00:00-02:00    1.910771\n",
              "                               ...   \n",
              "2022-10-26 00:00:00-03:00    3.174148\n",
              "2022-10-27 00:00:00-03:00    3.181762\n",
              "2022-10-28 00:00:00-03:00    3.169859\n",
              "2022-10-31 00:00:00-03:00    3.081311\n",
              "2022-11-01 00:00:00-03:00    3.082987\n",
              "Name: Close, Length: 3927, dtype: float64"
            ]
          },
          "execution_count": 50,
          "metadata": {},
          "output_type": "execute_result"
        }
      ],
      "source": [
        "log_prices"
      ]
    },
    {
      "cell_type": "code",
      "execution_count": null,
      "metadata": {
        "colab": {
          "base_uri": "https://localhost:8080/"
        },
        "id": "oucdT6_SzWw4",
        "outputId": "f4387d65-cc95-46d2-9378-902bf7ebf06c"
      },
      "outputs": [
        {
          "data": {
            "text/plain": [
              "Date\n",
              "2007-01-03 00:00:00-02:00   -0.030878\n",
              "2007-01-04 00:00:00-02:00   -0.022594\n",
              "2007-01-05 00:00:00-02:00   -0.030870\n",
              "2007-01-08 00:00:00-02:00    0.011608\n",
              "2007-01-09 00:00:00-02:00   -0.031039\n",
              "                               ...   \n",
              "2022-10-26 00:00:00-03:00   -0.024760\n",
              "2022-10-27 00:00:00-03:00    0.007614\n",
              "2022-10-28 00:00:00-03:00   -0.011903\n",
              "2022-10-31 00:00:00-03:00   -0.088548\n",
              "2022-11-01 00:00:00-03:00    0.001676\n",
              "Name: Close, Length: 3926, dtype: float64"
            ]
          },
          "execution_count": 51,
          "metadata": {},
          "output_type": "execute_result"
        }
      ],
      "source": [
        "log_returns"
      ]
    },
    {
      "cell_type": "code",
      "execution_count": null,
      "metadata": {
        "colab": {
          "base_uri": "https://localhost:8080/"
        },
        "id": "zxY8cgv6onZi",
        "outputId": "87662774-d64b-4b1c-d856-0a4c28cd5c1a"
      },
      "outputs": [
        {
          "data": {
            "text/plain": [
              "Date\n",
              "2007-01-03 00:00:00-02:00   -0.030406\n",
              "2007-01-04 00:00:00-02:00   -0.022341\n",
              "2007-01-05 00:00:00-02:00   -0.030398\n",
              "2007-01-08 00:00:00-02:00    0.011676\n",
              "2007-01-09 00:00:00-02:00   -0.030562\n",
              "                               ...   \n",
              "2022-10-26 00:00:00-03:00   -0.024456\n",
              "2022-10-27 00:00:00-03:00    0.007643\n",
              "2022-10-28 00:00:00-03:00   -0.011833\n",
              "2022-10-31 00:00:00-03:00   -0.084741\n",
              "2022-11-01 00:00:00-03:00    0.001677\n",
              "Name: Close, Length: 3926, dtype: float64"
            ]
          },
          "execution_count": 52,
          "metadata": {},
          "output_type": "execute_result"
        }
      ],
      "source": [
        "log_returns2"
      ]
    },
    {
      "cell_type": "code",
      "execution_count": null,
      "metadata": {
        "colab": {
          "base_uri": "https://localhost:8080/",
          "height": 452
        },
        "id": "nGRw7zEQ14A6",
        "outputId": "e4d4e93b-6f66-47af-f3d6-262c31901db4"
      },
      "outputs": [
        {
          "data": {
            "image/png": "[encoded data removed]",
            "text/plain": [
              "<Figure size 640x480 with 1 Axes>"
            ]
          },
          "metadata": {},
          "output_type": "display_data"
        }
      ],
      "source": [
        "# ploting the log returns\n",
        "plt.plot(log_returns);\n",
        "plt.title(\"Plot of Daily log-Returns of PETR4\");\n",
        "plt.ylabel(\"Percentage (%)\");"
      ]
    },
    {
      "cell_type": "code",
      "execution_count": null,
      "metadata": {
        "colab": {
          "base_uri": "https://localhost:8080/",
          "height": 452
        },
        "id": "UtoGthjCjYbc",
        "outputId": "09a6a57f-735c-4b32-81c7-cd67c440c08a"
      },
      "outputs": [
        {
          "data": {
            "image/png": "[encoded data removed]",
            "text/plain": [
              "<Figure size 640x480 with 1 Axes>"
            ]
          },
          "metadata": {},
          "output_type": "display_data"
        }
      ],
      "source": [
        "# ploting the prices\n",
        "plt.plot(log_prices);\n",
        "plt.title(\"Plot of Daily log-Prices of PETR4\");\n",
        "plt.ylabel(\"Log\");"
      ]
    },
    {
      "cell_type": "markdown",
      "metadata": {
        "id": "RiiAa6MxSoR5"
      },
      "source": [
        "## Volatility modeling in Python\n",
        "Vamos usar o pacote arch para estimar os modelos. Também podemos encontrar algumas postagens em que os modelos GARCH são estimados usando otimização (estilo solver), dado que são modelos determinísticos da volatilidade.\n",
        "Para mais detalhes do pacote:\n",
        "https://arch.readthedocs.io/en/latest/univariate/introduction.html\n"
      ]
    },
    {
      "cell_type": "code",
      "execution_count": null,
      "metadata": {
        "colab": {
          "base_uri": "https://localhost:8080/"
        },
        "id": "MfTkV-hmUQox",
        "outputId": "88592d13-91e7-4bf7-9d8a-9e250281e02f"
      },
      "outputs": [
        {
          "name": "stdout",
          "output_type": "stream",
          "text": [
            "ADF Statistic: -1.6311957712175957\n",
            "p-value: 0.46686486084540585\n",
            "Critical Values:\n",
            "\t1%: -3.432019708703093\n",
            "\t5%: -2.8622777859108606\n",
            "\t10%: -2.567162732014412\n"
          ]
        }
      ],
      "source": [
        "# analyzing the ACF of returns and quadratic returns\n",
        "# !pip install statsmodels\n",
        "from statsmodels.tsa.stattools import adfuller\n",
        "from statsmodels.tsa.seasonal import seasonal_decompose\n",
        "from statsmodels.graphics.tsaplots import plot_acf, plot_pacf\n",
        "\n",
        "# ADF test: unit root\n",
        "adf = adfuller(log_prices)\n",
        "print('ADF Statistic: {}'.format(adf[0]))\n",
        "print('p-value: {}'.format(adf[1]))\n",
        "print('Critical Values:')\n",
        "for key, value in adf[4].items():\n",
        "    print('\\t{}: {}'.format(key, value))"
      ]
    },
    {
      "cell_type": "code",
      "execution_count": null,
      "metadata": {
        "colab": {
          "base_uri": "https://localhost:8080/",
          "height": 452
        },
        "id": "-CpuAxeoVl5f",
        "outputId": "4fc85054-e5f0-47e7-9204-66995a143737"
      },
      "outputs": [
        {
          "data": {
            "image/png": "[encoded data removed]",
            "text/plain": [
              "<Figure size 640x480 with 1 Axes>"
            ]
          },
          "metadata": {},
          "output_type": "display_data"
        }
      ],
      "source": [
        "# ACF of log_prices\n",
        "plot_acf(log_prices, lags=60);"
      ]
    },
    {
      "cell_type": "code",
      "execution_count": null,
      "metadata": {
        "colab": {
          "base_uri": "https://localhost:8080/",
          "height": 452
        },
        "id": "a3iVFGrjVqU2",
        "outputId": "5bdb8c7e-5be8-4849-bd6b-45be708f72f1"
      },
      "outputs": [
        {
          "data": {
            "image/png": "[encoded data removed]",
            "text/plain": [
              "<Figure size 640x480 with 1 Axes>"
            ]
          },
          "metadata": {},
          "output_type": "display_data"
        }
      ],
      "source": [
        "# ACF of log_returns\n",
        "plot_acf(log_returns, lags=60);"
      ]
    },
    {
      "cell_type": "code",
      "execution_count": null,
      "metadata": {
        "colab": {
          "base_uri": "https://localhost:8080/",
          "height": 452
        },
        "id": "pp0dwtgJVy-n",
        "outputId": "64c22c49-75aa-49ef-ba98-a7712715265f"
      },
      "outputs": [
        {
          "data": {
            "image/png": "[encoded data removed]",
            "text/plain": [
              "<Figure size 640x480 with 1 Axes>"
            ]
          },
          "metadata": {},
          "output_type": "display_data"
        }
      ],
      "source": [
        "# ACF of quadratic returns: see the conditional homoscedasticity\n",
        "plot_acf(log_returns**2, lags=60);"
      ]
    },
    {
      "cell_type": "code",
      "execution_count": null,
      "metadata": {
        "id": "VSGxykJsj2aC"
      },
      "outputs": [],
      "source": [
        "# run first line for installing the library\n",
        "!pip install -q arch\n",
        "from arch import arch_model\n"
      ]
    },
    {
      "cell_type": "code",
      "execution_count": null,
      "metadata": {
        "colab": {
          "base_uri": "https://localhost:8080/"
        },
        "id": "7p_46BA8WMbD",
        "outputId": "322877e1-2b4c-4958-8bc8-c9b9a577d988"
      },
      "outputs": [
        {
          "name": "stdout",
          "output_type": "stream",
          "text": [
            "                      Constant Mean - ARCH Model Results                      \n",
            "==============================================================================\n",
            "Dep. Variable:                  Close   R-squared:                       0.000\n",
            "Mean Model:             Constant Mean   Adj. R-squared:                  0.000\n",
            "Vol Model:                       ARCH   Log-Likelihood:                8796.48\n",
            "Distribution:                  Normal   AIC:                          -17565.0\n",
            "Method:            Maximum Likelihood   BIC:                          -17477.1\n",
            "                                        No. Observations:                 3926\n",
            "Date:                Sat, Aug 19 2023   Df Residuals:                     3925\n",
            "Time:                        17:31:05   Df Model:                            1\n",
            "                                 Mean Model                                 \n",
            "============================================================================\n",
            "                 coef    std err          t      P>|t|      95.0% Conf. Int.\n",
            "----------------------------------------------------------------------------\n",
            "mu         8.1390e-04  3.916e-04      2.079  3.766e-02 [4.642e-05,1.581e-03]\n",
            "                               Volatility Model                              \n",
            "=============================================================================\n",
            "                 coef    std err          t      P>|t|       95.0% Conf. Int.\n",
            "-----------------------------------------------------------------------------\n",
            "omega      2.3897e-04  3.729e-05      6.409  1.463e-10  [1.659e-04,3.121e-04]\n",
            "alpha[1]       0.1329  5.618e-02      2.365  1.802e-02    [2.277e-02,  0.243]\n",
            "alpha[2]       0.0887  2.527e-02      3.510  4.487e-04    [3.916e-02,  0.138]\n",
            "alpha[3]       0.0615  2.723e-02      2.258  2.392e-02    [8.128e-03,  0.115]\n",
            "alpha[4]       0.0936  2.790e-02      3.356  7.905e-04    [3.896e-02,  0.148]\n",
            "alpha[5]       0.0777  2.453e-02      3.168  1.535e-03    [2.963e-02,  0.126]\n",
            "alpha[6]       0.0731  2.990e-02      2.444  1.453e-02    [1.447e-02,  0.132]\n",
            "alpha[7]       0.0580  2.383e-02      2.433  1.496e-02    [1.128e-02,  0.105]\n",
            "alpha[8]       0.0280  3.104e-02      0.901      0.367 [-3.286e-02,8.883e-02]\n",
            "alpha[9]       0.0216  3.083e-02      0.700      0.484 [-3.883e-02,8.202e-02]\n",
            "alpha[10]      0.0440  2.640e-02      1.667  9.544e-02 [-7.723e-03,9.575e-02]\n",
            "alpha[11]      0.0141  1.837e-02      0.770      0.442 [-2.186e-02,5.014e-02]\n",
            "alpha[12]      0.0291  2.479e-02      1.173      0.241 [-1.951e-02,7.765e-02]\n",
            "=============================================================================\n",
            "\n",
            "Covariance estimator: robust\n"
          ]
        }
      ],
      "source": [
        "# creating a ARCH(12) model with constant mean\n",
        "garch = arch_model(log_returns, vol='ARCH', p=12, rescale=False).fit(disp='off')\n",
        "print(garch.summary())"
      ]
    },
    {
      "cell_type": "code",
      "execution_count": null,
      "metadata": {
        "colab": {
          "base_uri": "https://localhost:8080/"
        },
        "id": "KuS4ecWNWFnP",
        "outputId": "087f6b65-7130-4b26-d35e-55ae243b787e"
      },
      "outputs": [
        {
          "name": "stdout",
          "output_type": "stream",
          "text": [
            "                     Constant Mean - GARCH Model Results                      \n",
            "==============================================================================\n",
            "Dep. Variable:                  Close   R-squared:                       0.000\n",
            "Mean Model:             Constant Mean   Adj. R-squared:                  0.000\n",
            "Vol Model:                      GARCH   Log-Likelihood:                8802.94\n",
            "Distribution:                  Normal   AIC:                          -17597.9\n",
            "Method:            Maximum Likelihood   BIC:                          -17572.8\n",
            "                                        No. Observations:                 3926\n",
            "Date:                Sat, Aug 19 2023   Df Residuals:                     3925\n",
            "Time:                        17:31:30   Df Model:                            1\n",
            "                                  Mean Model                                 \n",
            "=============================================================================\n",
            "                 coef    std err          t      P>|t|       95.0% Conf. Int.\n",
            "-----------------------------------------------------------------------------\n",
            "mu         6.6420e-04  4.116e-04      1.614      0.107 [-1.426e-04,1.471e-03]\n",
            "                              Volatility Model                              \n",
            "============================================================================\n",
            "                 coef    std err          t      P>|t|      95.0% Conf. Int.\n",
            "----------------------------------------------------------------------------\n",
            "omega      1.7380e-05  6.592e-12  2.637e+06      0.000 [1.738e-05,1.738e-05]\n",
            "alpha[1]       0.1000  2.147e-02      4.658  3.194e-06   [5.792e-02,  0.142]\n",
            "beta[1]        0.8800  1.785e-02     49.293      0.000     [  0.845,  0.915]\n",
            "============================================================================\n",
            "\n",
            "Covariance estimator: robust\n"
          ]
        }
      ],
      "source": [
        "# creating a GARCH(1,1) model with constant mean\n",
        "garch = arch_model(log_returns, vol='GARCH', p=1, q=1, rescale=False).fit(disp='off')\n",
        "print(garch.summary())"
      ]
    },
    {
      "cell_type": "code",
      "execution_count": null,
      "metadata": {
        "colab": {
          "base_uri": "https://localhost:8080/"
        },
        "id": "UnW1IcRaYfJx",
        "outputId": "1b86d162-0040-4495-fb46-97d668c5fbb0"
      },
      "outputs": [
        {
          "name": "stdout",
          "output_type": "stream",
          "text": [
            "                           AR - GARCH Model Results                           \n",
            "==============================================================================\n",
            "Dep. Variable:                  Close   R-squared:                       0.001\n",
            "Mean Model:                        AR   Adj. R-squared:                  0.000\n",
            "Vol Model:                      GARCH   Log-Likelihood:                8802.14\n",
            "Distribution:                  Normal   AIC:                          -17594.3\n",
            "Method:            Maximum Likelihood   BIC:                          -17562.9\n",
            "                                        No. Observations:                 3925\n",
            "Date:                Sat, Aug 19 2023   Df Residuals:                     3923\n",
            "Time:                        17:32:47   Df Model:                            2\n",
            "                                  Mean Model                                 \n",
            "=============================================================================\n",
            "                 coef    std err          t      P>|t|       95.0% Conf. Int.\n",
            "-----------------------------------------------------------------------------\n",
            "Const      6.8634e-04  4.141e-04      1.657  9.743e-02 [-1.253e-04,1.498e-03]\n",
            "Close[1]      -0.0279  1.718e-02     -1.625      0.104 [-6.157e-02,5.761e-03]\n",
            "                              Volatility Model                              \n",
            "============================================================================\n",
            "                 coef    std err          t      P>|t|      95.0% Conf. Int.\n",
            "----------------------------------------------------------------------------\n",
            "omega      1.7515e-05  6.468e-12  2.708e+06      0.000 [1.751e-05,1.751e-05]\n",
            "alpha[1]       0.1000  2.161e-02      4.627  3.708e-06   [5.764e-02,  0.142]\n",
            "beta[1]        0.8800  1.788e-02     49.226      0.000     [  0.845,  0.915]\n",
            "============================================================================\n",
            "\n",
            "Covariance estimator: robust\n"
          ]
        }
      ],
      "source": [
        "# creating a GARCH(1,1) model with AR(1) mean\n",
        "garch = arch_model(log_returns,mean='ARX', lags=1, vol='GARCH', p=1, q=1, rescale=False).fit(disp='off')\n",
        "print(garch.summary())"
      ]
    },
    {
      "cell_type": "code",
      "execution_count": null,
      "metadata": {
        "colab": {
          "base_uri": "https://localhost:8080/"
        },
        "id": "QNcIyzBeVx7i",
        "outputId": "e814c2a5-4ca5-42cc-945e-beedf2c4a737"
      },
      "outputs": [
        {
          "name": "stdout",
          "output_type": "stream",
          "text": [
            "                          Zero Mean - GARCH Model Results                           \n",
            "====================================================================================\n",
            "Dep. Variable:                        Close   R-squared:                       0.000\n",
            "Mean Model:                       Zero Mean   Adj. R-squared:                  0.000\n",
            "Vol Model:                            GARCH   Log-Likelihood:                8966.97\n",
            "Distribution:      Standardized Student's t   AIC:                          -17925.9\n",
            "Method:                  Maximum Likelihood   BIC:                          -17900.8\n",
            "                                              No. Observations:                 3926\n",
            "Date:                      Sat, Aug 19 2023   Df Residuals:                     3926\n",
            "Time:                              17:35:37   Df Model:                            0\n",
            "                              Volatility Model                              \n",
            "============================================================================\n",
            "                 coef    std err          t      P>|t|      95.0% Conf. Int.\n",
            "----------------------------------------------------------------------------\n",
            "omega      1.2220e-05  1.062e-07    115.054      0.000 [1.201e-05,1.243e-05]\n",
            "alpha[1]       0.0836  1.124e-02      7.439  1.018e-13   [6.157e-02,  0.106]\n",
            "beta[1]        0.9046  8.884e-03    101.830      0.000     [  0.887,  0.922]\n",
            "                              Distribution                              \n",
            "========================================================================\n",
            "                 coef    std err          t      P>|t|  95.0% Conf. Int.\n",
            "------------------------------------------------------------------------\n",
            "nu             5.4736      0.491     11.156  6.720e-29 [  4.512,  6.435]\n",
            "========================================================================\n",
            "\n",
            "Covariance estimator: robust\n"
          ]
        }
      ],
      "source": [
        "# creating a GARCH(1,1) model zero mean\n",
        "garch = arch_model(log_returns,mean='Zero', vol='GARCH', p=1, q=1, rescale=False, dist='StudentsT').fit(disp='off')\n",
        "print(garch.summary())"
      ]
    },
    {
      "cell_type": "code",
      "execution_count": null,
      "metadata": {
        "colab": {
          "base_uri": "https://localhost:8080/"
        },
        "id": "OEZDY8RPaM3U",
        "outputId": "dd92d814-aba7-4d1d-cc2a-49e3ab969f7b"
      },
      "outputs": [
        {
          "name": "stdout",
          "output_type": "stream",
          "text": [
            "                       Constant Mean - AVGARCH Model Results                        \n",
            "====================================================================================\n",
            "Dep. Variable:                        Close   R-squared:                       0.000\n",
            "Mean Model:                   Constant Mean   Adj. R-squared:                  0.000\n",
            "Vol Model:                          AVGARCH   Log-Likelihood:                8797.99\n",
            "Distribution:      Standardized Student's t   AIC:                          -17586.0\n",
            "Method:                  Maximum Likelihood   BIC:                          -17554.6\n",
            "                                              No. Observations:                 3926\n",
            "Date:                      Sat, Aug 19 2023   Df Residuals:                     3925\n",
            "Time:                              17:34:36   Df Model:                            1\n",
            "                                 Mean Model                                 \n",
            "============================================================================\n",
            "                 coef    std err          t      P>|t|      95.0% Conf. Int.\n",
            "----------------------------------------------------------------------------\n",
            "mu         1.1384e-03  4.226e-04      2.694  7.059e-03 [3.102e-04,1.967e-03]\n",
            "                              Volatility Model                              \n",
            "============================================================================\n",
            "                 coef    std err          t      P>|t|      95.0% Conf. Int.\n",
            "----------------------------------------------------------------------------\n",
            "omega      9.4840e-04  3.222e-04      2.943  3.248e-03 [3.168e-04,1.580e-03]\n",
            "alpha[1]       0.0980  2.114e-02      4.636  3.559e-06   [5.656e-02,  0.139]\n",
            "beta[1]        0.8914  2.248e-02     39.653      0.000     [  0.847,  0.935]\n",
            "                                Distribution                                \n",
            "============================================================================\n",
            "                 coef    std err          t      P>|t|      95.0% Conf. Int.\n",
            "----------------------------------------------------------------------------\n",
            "nu           487.0297     72.714      6.698  2.114e-11 [3.445e+02,6.295e+02]\n",
            "============================================================================\n",
            "\n",
            "Covariance estimator: robust\n"
          ]
        }
      ],
      "source": [
        " # creating a GARCH(1,1) model with constant mean and t-Student errors\n",
        "garch = arch_model(log_returns,\n",
        "                   vol='GARCH',\n",
        "                   power=1.0,\n",
        "                   dist='StudentsT',\n",
        "                   rescale='False').fit(disp='off')\n",
        "print(garch.summary())"
      ]
    },
    {
      "cell_type": "code",
      "execution_count": null,
      "metadata": {
        "colab": {
          "base_uri": "https://localhost:8080/"
        },
        "id": "RglLPBqQcAF8",
        "outputId": "133f12f6-c158-4220-ce6c-b5c19fe71226"
      },
      "outputs": [
        {
          "name": "stdout",
          "output_type": "stream",
          "text": [
            "                     Constant Mean - TARCH/ZARCH Model Results                      \n",
            "====================================================================================\n",
            "Dep. Variable:                        Close   R-squared:                       0.000\n",
            "Mean Model:                   Constant Mean   Adj. R-squared:                  0.000\n",
            "Vol Model:                      TARCH/ZARCH   Log-Likelihood:                8987.80\n",
            "Distribution:      Standardized Student's t   AIC:                          -17963.6\n",
            "Method:                  Maximum Likelihood   BIC:                          -17925.9\n",
            "                                              No. Observations:                 3926\n",
            "Date:                      Sat, Aug 19 2023   Df Residuals:                     3925\n",
            "Time:                              13:29:45   Df Model:                            1\n",
            "                                  Mean Model                                 \n",
            "=============================================================================\n",
            "                 coef    std err          t      P>|t|       95.0% Conf. Int.\n",
            "-----------------------------------------------------------------------------\n",
            "mu         4.2919e-04  3.236e-04      1.326      0.185 [-2.050e-04,1.063e-03]\n",
            "                              Volatility Model                              \n",
            "============================================================================\n",
            "                 coef    std err          t      P>|t|      95.0% Conf. Int.\n",
            "----------------------------------------------------------------------------\n",
            "omega      5.8954e-04  1.937e-04      3.043  2.342e-03 [2.098e-04,9.693e-04]\n",
            "alpha[1]       0.0571  1.039e-02      5.495  3.896e-08 [3.674e-02,7.748e-02]\n",
            "gamma[1]       0.0612  1.449e-02      4.221  2.432e-05 [3.276e-02,8.956e-02]\n",
            "beta[1]        0.9123  1.561e-02     58.443      0.000     [  0.882,  0.943]\n",
            "                              Distribution                              \n",
            "========================================================================\n",
            "                 coef    std err          t      P>|t|  95.0% Conf. Int.\n",
            "------------------------------------------------------------------------\n",
            "nu             5.5499      0.503     11.029  2.776e-28 [  4.564,  6.536]\n",
            "========================================================================\n",
            "\n",
            "Covariance estimator: robust\n"
          ]
        }
      ],
      "source": [
        " # creating a GARCH(1,1) model with constant mean, t-Student errors and asymmetric shocks (GJR-GARCH)\n",
        "garch = arch_model(log_returns,\n",
        "                   vol='GARCH',\n",
        "                   p=1,\n",
        "                   o=1,\n",
        "                   q=1,\n",
        "                   power=1.0,\n",
        "                   dist='StudentsT',\n",
        "                   rescale='False').fit(disp='off')\n",
        "print(garch.summary())"
      ]
    },
    {
      "cell_type": "markdown",
      "metadata": {
        "id": "NCEfB-Hc26ck"
      },
      "source": [
        "## Forecasting volatility\n",
        "\n",
        "https://arch.readthedocs.io/en/latest/univariate/forecasting.html\n"
      ]
    },
    {
      "cell_type": "code",
      "execution_count": null,
      "metadata": {
        "colab": {
          "base_uri": "https://localhost:8080/",
          "height": 628
        },
        "id": "jzEeGMRo24yE",
        "outputId": "54d4dd9f-f51c-4f6a-fb0c-2db99c500cf5"
      },
      "outputs": [
        {
          "name": "stderr",
          "output_type": "stream",
          "text": [
            "/usr/local/lib/python3.10/dist-packages/arch/__future__/_utility.py:11: FutureWarning: \n",
            "The default for reindex is True. After September 2021 this will change to\n",
            "False. Set reindex to True or False to silence this message. Alternatively,\n",
            "you can use the import comment\n",
            "\n",
            "from arch.__future__ import reindexing\n",
            "\n",
            "to globally set reindex to True and silence this warning.\n",
            "\n",
            "  warnings.warn(\n"
          ]
        },
        {
          "data": {
            "text/html": [
              "\n",
              "  <div id=\"df-79eaa092-c0a2-48e6-8cb4-2955b07f8135\" class=\"colab-df-container\">\n",
              "    <div>\n",
              "<style scoped>\n",
              "    .dataframe tbody tr th:only-of-type {\n",
              "        vertical-align: middle;\n",
              "    }\n",
              "\n",
              "    .dataframe tbody tr th {\n",
              "        vertical-align: top;\n",
              "    }\n",
              "\n",
              "    .dataframe thead th {\n",
              "        text-align: right;\n",
              "    }\n",
              "</style>\n",
              "<table border=\"1\" class=\"dataframe\">\n",
              "  <thead>\n",
              "    <tr style=\"text-align: right;\">\n",
              "      <th></th>\n",
              "      <th>h.1</th>\n",
              "    </tr>\n",
              "    <tr>\n",
              "      <th>Date</th>\n",
              "      <th></th>\n",
              "    </tr>\n",
              "  </thead>\n",
              "  <tbody>\n",
              "    <tr>\n",
              "      <th>2007-01-03 00:00:00-02:00</th>\n",
              "      <td>NaN</td>\n",
              "    </tr>\n",
              "    <tr>\n",
              "      <th>2007-01-04 00:00:00-02:00</th>\n",
              "      <td>NaN</td>\n",
              "    </tr>\n",
              "    <tr>\n",
              "      <th>2007-01-05 00:00:00-02:00</th>\n",
              "      <td>NaN</td>\n",
              "    </tr>\n",
              "    <tr>\n",
              "      <th>2007-01-08 00:00:00-02:00</th>\n",
              "      <td>NaN</td>\n",
              "    </tr>\n",
              "    <tr>\n",
              "      <th>2007-01-09 00:00:00-02:00</th>\n",
              "      <td>NaN</td>\n",
              "    </tr>\n",
              "    <tr>\n",
              "      <th>...</th>\n",
              "      <td>...</td>\n",
              "    </tr>\n",
              "    <tr>\n",
              "      <th>2022-10-26 00:00:00-03:00</th>\n",
              "      <td>NaN</td>\n",
              "    </tr>\n",
              "    <tr>\n",
              "      <th>2022-10-27 00:00:00-03:00</th>\n",
              "      <td>NaN</td>\n",
              "    </tr>\n",
              "    <tr>\n",
              "      <th>2022-10-28 00:00:00-03:00</th>\n",
              "      <td>NaN</td>\n",
              "    </tr>\n",
              "    <tr>\n",
              "      <th>2022-10-31 00:00:00-03:00</th>\n",
              "      <td>NaN</td>\n",
              "    </tr>\n",
              "    <tr>\n",
              "      <th>2022-11-01 00:00:00-03:00</th>\n",
              "      <td>0.001436</td>\n",
              "    </tr>\n",
              "  </tbody>\n",
              "</table>\n",
              "<p>3926 rows × 1 columns</p>\n",
              "</div>\n",
              "    <div class=\"colab-df-buttons\">\n",
              "\n",
              "  <div class=\"colab-df-container\">\n",
              "    <button class=\"colab-df-convert\" onclick=\"convertToInteractive('df-79eaa092-c0a2-48e6-8cb4-2955b07f8135')\"\n",
              "            title=\"Convert this dataframe to an interactive table.\"\n",
              "            style=\"display:none;\">\n",
              "\n",
              "  <svg xmlns=\"http://www.w3.org/2000/svg\" height=\"24px\" viewBox=\"0 -960 960 960\">\n",
              "    <path d=\"M120-120v-720h720v720H120Zm60-500h600v-160H180v160Zm220 220h160v-160H400v160Zm0 220h160v-160H400v160ZM180-400h160v-160H180v160Zm440 0h160v-160H620v160ZM180-180h160v-160H180v160Zm440 0h160v-160H620v160Z\"/>\n",
              "  </svg>\n",
              "    </button>\n",
              "\n",
              "  <style>\n",
              "    .colab-df-container {\n",
              "      display:flex;\n",
              "      gap: 12px;\n",
              "    }\n",
              "\n",
              "    .colab-df-convert {\n",
              "      background-color: #E8F0FE;\n",
              "      border: none;\n",
              "      border-radius: 50%;\n",
              "      cursor: pointer;\n",
              "      display: none;\n",
              "      fill: #1967D2;\n",
              "      height: 32px;\n",
              "      padding: 0 0 0 0;\n",
              "      width: 32px;\n",
              "    }\n",
              "\n",
              "    .colab-df-convert:hover {\n",
              "      background-color: #E2EBFA;\n",
              "      box-shadow: 0px 1px 2px rgba(60, 64, 67, 0.3), 0px 1px 3px 1px rgba(60, 64, 67, 0.15);\n",
              "      fill: #174EA6;\n",
              "    }\n",
              "\n",
              "    .colab-df-buttons div {\n",
              "      margin-bottom: 4px;\n",
              "    }\n",
              "\n",
              "    [theme=dark] .colab-df-convert {\n",
              "      background-color: #3B4455;\n",
              "      fill: #D2E3FC;\n",
              "    }\n",
              "\n",
              "    [theme=dark] .colab-df-convert:hover {\n",
              "      background-color: #434B5C;\n",
              "      box-shadow: 0px 1px 3px 1px rgba(0, 0, 0, 0.15);\n",
              "      filter: drop-shadow(0px 1px 2px rgba(0, 0, 0, 0.3));\n",
              "      fill: #FFFFFF;\n",
              "    }\n",
              "  </style>\n",
              "\n",
              "    <script>\n",
              "      const buttonEl =\n",
              "        document.querySelector('#df-79eaa092-c0a2-48e6-8cb4-2955b07f8135 button.colab-df-convert');\n",
              "      buttonEl.style.display =\n",
              "        google.colab.kernel.accessAllowed ? 'block' : 'none';\n",
              "\n",
              "      async function convertToInteractive(key) {\n",
              "        const element = document.querySelector('#df-79eaa092-c0a2-48e6-8cb4-2955b07f8135');\n",
              "        const dataTable =\n",
              "          await google.colab.kernel.invokeFunction('convertToInteractive',\n",
              "                                                    [key], {});\n",
              "        if (!dataTable) return;\n",
              "\n",
              "        const docLinkHtml = 'Like what you see? Visit the ' +\n",
              "          '<a target=\"_blank\" href=https://colab.research.google.com/notebooks/data_table.ipynb>data table notebook</a>'\n",
              "          + ' to learn more about interactive tables.';\n",
              "        element.innerHTML = '';\n",
              "        dataTable['output_type'] = 'display_data';\n",
              "        await google.colab.output.renderOutput(dataTable, element);\n",
              "        const docLink = document.createElement('div');\n",
              "        docLink.innerHTML = docLinkHtml;\n",
              "        element.appendChild(docLink);\n",
              "      }\n",
              "    </script>\n",
              "  </div>\n",
              "\n",
              "\n",
              "<div id=\"df-8f162445-46a3-4f35-aaed-c90f06885113\">\n",
              "  <button class=\"colab-df-quickchart\" onclick=\"quickchart('df-8f162445-46a3-4f35-aaed-c90f06885113')\"\n",
              "            title=\"Suggest charts.\"\n",
              "            style=\"display:none;\">\n",
              "\n",
              "<svg xmlns=\"http://www.w3.org/2000/svg\" height=\"24px\"viewBox=\"0 0 24 24\"\n",
              "     width=\"24px\">\n",
              "    <g>\n",
              "        <path d=\"M19 3H5c-1.1 0-2 .9-2 2v14c0 1.1.9 2 2 2h14c1.1 0 2-.9 2-2V5c0-1.1-.9-2-2-2zM9 17H7v-7h2v7zm4 0h-2V7h2v10zm4 0h-2v-4h2v4z\"/>\n",
              "    </g>\n",
              "</svg>\n",
              "  </button>\n",
              "\n",
              "<style>\n",
              "  .colab-df-quickchart {\n",
              "    background-color: #E8F0FE;\n",
              "    border: none;\n",
              "    border-radius: 50%;\n",
              "    cursor: pointer;\n",
              "    display: none;\n",
              "    fill: #1967D2;\n",
              "    height: 32px;\n",
              "    padding: 0 0 0 0;\n",
              "    width: 32px;\n",
              "  }\n",
              "\n",
              "  .colab-df-quickchart:hover {\n",
              "    background-color: #E2EBFA;\n",
              "    box-shadow: 0px 1px 2px rgba(60, 64, 67, 0.3), 0px 1px 3px 1px rgba(60, 64, 67, 0.15);\n",
              "    fill: #174EA6;\n",
              "  }\n",
              "\n",
              "  [theme=dark] .colab-df-quickchart {\n",
              "    background-color: #3B4455;\n",
              "    fill: #D2E3FC;\n",
              "  }\n",
              "\n",
              "  [theme=dark] .colab-df-quickchart:hover {\n",
              "    background-color: #434B5C;\n",
              "    box-shadow: 0px 1px 3px 1px rgba(0, 0, 0, 0.15);\n",
              "    filter: drop-shadow(0px 1px 2px rgba(0, 0, 0, 0.3));\n",
              "    fill: #FFFFFF;\n",
              "  }\n",
              "</style>\n",
              "\n",
              "  <script>\n",
              "    async function quickchart(key) {\n",
              "      const charts = await google.colab.kernel.invokeFunction(\n",
              "          'suggestCharts', [key], {});\n",
              "    }\n",
              "    (() => {\n",
              "      let quickchartButtonEl =\n",
              "        document.querySelector('#df-8f162445-46a3-4f35-aaed-c90f06885113 button');\n",
              "      quickchartButtonEl.style.display =\n",
              "        google.colab.kernel.accessAllowed ? 'block' : 'none';\n",
              "    })();\n",
              "  </script>\n",
              "</div>\n",
              "    </div>\n",
              "  </div>\n"
            ],
            "text/plain": [
              "                                h.1\n",
              "Date                               \n",
              "2007-01-03 00:00:00-02:00       NaN\n",
              "2007-01-04 00:00:00-02:00       NaN\n",
              "2007-01-05 00:00:00-02:00       NaN\n",
              "2007-01-08 00:00:00-02:00       NaN\n",
              "2007-01-09 00:00:00-02:00       NaN\n",
              "...                             ...\n",
              "2022-10-26 00:00:00-03:00       NaN\n",
              "2022-10-27 00:00:00-03:00       NaN\n",
              "2022-10-28 00:00:00-03:00       NaN\n",
              "2022-10-31 00:00:00-03:00       NaN\n",
              "2022-11-01 00:00:00-03:00  0.001436\n",
              "\n",
              "[3926 rows x 1 columns]"
            ]
          },
          "execution_count": 23,
          "metadata": {},
          "output_type": "execute_result"
        }
      ],
      "source": [
        "forecast = garch.forecast(horizon=1)\n",
        "forecast.variance"
      ]
    },
    {
      "cell_type": "markdown",
      "metadata": {
        "id": "iR9g441X_O_z"
      },
      "source": [
        "## Value at Risk\n",
        "https://arch.readthedocs.io/en/latest/univariate/univariate_volatility_forecasting.html#Parametric-VaR"
      ]
    },
    {
      "cell_type": "code",
      "execution_count": null,
      "metadata": {
        "colab": {
          "base_uri": "https://localhost:8080/"
        },
        "id": "GdMiPusv_REY",
        "outputId": "9225a59f-ca32-44c9-980c-9eaa360d7217"
      },
      "outputs": [
        {
          "name": "stdout",
          "output_type": "stream",
          "text": [
            "Iteration:      1,   Func. Count:      8,   Neg. LLF: 399728.4283882179\n",
            "Iteration:      2,   Func. Count:     25,   Neg. LLF: 2115850.6580509464\n",
            "Iteration:      3,   Func. Count:     42,   Neg. LLF: 12423.158587204034\n",
            "Iteration:      4,   Func. Count:     50,   Neg. LLF: 11988.744651644885\n",
            "Iteration:      5,   Func. Count:     58,   Neg. LLF: 72462.69692875004\n",
            "Iteration:      6,   Func. Count:     67,   Neg. LLF: 41150.242726258366\n",
            "Iteration:      7,   Func. Count:     79,   Neg. LLF: 2544469.6828444153\n",
            "Iteration:      8,   Func. Count:     96,   Neg. LLF: 4484857.698251671\n",
            "Iteration:      9,   Func. Count:    104,   Neg. LLF: 4210892.056451546\n",
            "Iteration:     10,   Func. Count:    112,   Neg. LLF: 2049412.5527815402\n",
            "Iteration:     11,   Func. Count:    126,   Neg. LLF: 2823242.5410328256\n",
            "Iteration:     12,   Func. Count:    143,   Neg. LLF: 12525.686420905806\n",
            "Iteration:     13,   Func. Count:    150,   Neg. LLF: 13851.857999771495\n",
            "Iteration:     14,   Func. Count:    167,   Neg. LLF: 85202.84664969891\n",
            "Iteration:     15,   Func. Count:    175,   Neg. LLF: 55112.14604153934\n",
            "Iteration:     16,   Func. Count:    188,   Neg. LLF: 201877.0964230501\n",
            "Iteration:     17,   Func. Count:    205,   Neg. LLF: 3561398.5086249225\n",
            "Iteration:     18,   Func. Count:    213,   Neg. LLF: 154436.38119648362\n",
            "Iteration:     19,   Func. Count:    222,   Neg. LLF: 36906.68360326217\n",
            "Iteration:     20,   Func. Count:    230,   Neg. LLF: 6476.052061919062\n",
            "Iteration:     21,   Func. Count:    238,   Neg. LLF: 9533286.487826213\n",
            "Iteration:     22,   Func. Count:    248,   Neg. LLF: 2039268.7422224006\n",
            "Iteration:     23,   Func. Count:    259,   Neg. LLF: -1540.1595028344893\n",
            "Optimization terminated successfully    (Exit mode 0)\n",
            "            Current function value: -1540.1641382995274\n",
            "            Iterations: 27\n",
            "            Function evaluations: 259\n",
            "            Gradient evaluations: 23\n",
            "[-1.28726676 -1.20567338]\n"
          ]
        }
      ],
      "source": [
        "am = arch_model(log_returns, vol=\"Garch\", p=1, o=0, q=1, dist=\"skewt\", rescale=False)\n",
        "res = am.fit(last_obs=\"2021-12-31\")\n",
        "forecasts = res.forecast(start=\"2022-01-01\", reindex=False)\n",
        "cond_mean = forecasts.mean[\"2022\":]\n",
        "cond_var = forecasts.variance[\"2022\":]\n",
        "q = am.distribution.ppf([0.01, 0.05], res.params[-2:])\n",
        "print(q)"
      ]
    },
    {
      "cell_type": "code",
      "execution_count": null,
      "metadata": {
        "colab": {
          "base_uri": "https://localhost:8080/",
          "height": 455
        },
        "id": "rHnIj3apAFm_",
        "outputId": "433de51f-1ef7-41ce-a341-2d633e8686e9"
      },
      "outputs": [
        {
          "data": {
            "image/png": "[encoded data removed]",
            "text/plain": [
              "<Figure size 640x480 with 1 Axes>"
            ]
          },
          "metadata": {},
          "output_type": "display_data"
        }
      ],
      "source": [
        "value_at_risk = -cond_mean.values - np.sqrt(cond_var).values * q[None, :]\n",
        "value_at_risk = pd.DataFrame(value_at_risk, columns=[\"1%\", \"5%\"], index=cond_var.index)\n",
        "ax = value_at_risk.plot(legend=False)\n",
        "xl = ax.set_xlim(value_at_risk.index[0], value_at_risk.index[-1])\n",
        "rets_2022 = log_returns[\"2022\":].copy()\n",
        "rets_2022.name = \"Log Return\"\n",
        "c = []\n",
        "for idx in value_at_risk.index:\n",
        "    if rets_2022[idx] > -value_at_risk.loc[idx, \"5%\"]:\n",
        "        c.append(\"#000000\")\n",
        "    elif rets_2022[idx] < -value_at_risk.loc[idx, \"1%\"]:\n",
        "        c.append(\"#BB0000\")\n",
        "    else:\n",
        "        c.append(\"#BB00BB\")\n",
        "c = np.array(c, dtype=\"object\")\n",
        "labels = {\n",
        "    \"#BB0000\": \"1% Exceedence\",\n",
        "    \"#BB00BB\": \"5% Exceedence\",\n",
        "    \"#000000\": \"No Exceedence\",\n",
        "}\n",
        "markers = {\"#BB0000\": \"x\", \"#BB00BB\": \"s\", \"#000000\": \"o\"}\n",
        "for color in np.unique(c):\n",
        "    sel = c == color\n",
        "    ax.scatter(\n",
        "        rets_2022.index[sel],\n",
        "        -rets_2022.loc[sel],\n",
        "        marker=markers[color],\n",
        "        c=c[sel],\n",
        "        label=labels[color],\n",
        "    )\n",
        "ax.set_title(\"Parametric VaR\")\n",
        "leg = ax.legend(frameon=False, ncol=3)\n"
      ]
    },
    {
      "cell_type": "code",
      "execution_count": null,
      "metadata": {
        "id": "ni5gkXvyAGo3"
      },
      "outputs": [],
      "source": []
    }
  ],
  "metadata": {
    "colab": {
      "provenance": []
    },
    "kernelspec": {
      "display_name": "Python 3",
      "name": "python3"
    },
    "language_info": {
      "codemirror_mode": {
        "name": "ipython",
        "version": 3
      },
      "file_extension": ".py",
      "mimetype": "text/x-python",
      "name": "python",
      "nbconvert_exporter": "python",
      "pygments_lexer": "ipython3",
      "version": "3.10.8"
    }
  },
  "nbformat": 4,
  "nbformat_minor": 0
}
